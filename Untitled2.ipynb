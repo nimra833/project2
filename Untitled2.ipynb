{
 "cells": [
  {
   "cell_type": "code",
   "execution_count": 1,
   "id": "73188848",
   "metadata": {},
   "outputs": [
    {
     "name": "stdout",
     "output_type": "stream",
     "text": [
      "nimra\n"
     ]
    }
   ],
   "source": [
    "print(\"nimra\")"
   ]
  },
  {
   "cell_type": "code",
   "execution_count": 2,
   "id": "d06dfcd5",
   "metadata": {},
   "outputs": [
    {
     "data": {
      "text/plain": [
       "'blah'"
      ]
     },
     "execution_count": 2,
     "metadata": {},
     "output_type": "execute_result"
    }
   ],
   "source": [
    "class MyClass:\n",
    "    var= \"blah\"\n",
    "    \n",
    "    def funct(self):\n",
    "        print(\"this is a message\")\n",
    "myobject = MyClass()\n",
    "myobject.var"
   ]
  },
  {
   "cell_type": "code",
   "execution_count": 21,
   "id": "973f3040",
   "metadata": {},
   "outputs": [
    {
     "name": "stdout",
     "output_type": "stream",
     "text": [
      "green sour\n"
     ]
    }
   ],
   "source": [
    "class Fruit:\n",
    "    \n",
    "    flavour=\"\"\n",
    "    color=\"\"\n",
    "   \n",
    "    \n",
    "        \n",
    "f = Fruit()\n",
    "f.color ='green'\n",
    "f.flavour ='sour'\n",
    "print(f.color, f.flavour)"
   ]
  },
  {
   "cell_type": "code",
   "execution_count": null,
   "id": "a2d65c25",
   "metadata": {},
   "outputs": [],
   "source": []
  },
  {
   "cell_type": "code",
   "execution_count": null,
   "id": "f42141f0",
   "metadata": {},
   "outputs": [],
   "source": []
  }
 ],
 "metadata": {
  "kernelspec": {
   "display_name": "Python 3 (ipykernel)",
   "language": "python",
   "name": "python3"
  },
  "language_info": {
   "codemirror_mode": {
    "name": "ipython",
    "version": 3
   },
   "file_extension": ".py",
   "mimetype": "text/x-python",
   "name": "python",
   "nbconvert_exporter": "python",
   "pygments_lexer": "ipython3",
   "version": "3.11.4"
  }
 },
 "nbformat": 4,
 "nbformat_minor": 5
}
