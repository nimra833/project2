{
 "cells": [
  {
   "cell_type": "markdown",
   "id": "11fbb70f",
   "metadata": {},
   "source": [
    "## Conditional"
   ]
  },
  {
   "cell_type": "code",
   "execution_count": 1,
   "id": "e5081b21",
   "metadata": {},
   "outputs": [
    {
     "name": "stdout",
     "output_type": "stream",
     "text": [
      "smaller\n",
      "finish\n"
     ]
    }
   ],
   "source": [
    "x=5\n",
    "if x< 10:\n",
    "    print('smaller')\n",
    "if x> 20:\n",
    "    print('bigger')\n",
    "print('finish')"
   ]
  },
  {
   "cell_type": "markdown",
   "id": "9359db0b",
   "metadata": {},
   "source": [
    "## Finding large value"
   ]
  },
  {
   "cell_type": "code",
   "execution_count": 2,
   "id": "bcb9787a",
   "metadata": {},
   "outputs": [
    {
     "name": "stdout",
     "output_type": "stream",
     "text": [
      "before -1\n",
      "9 9\n",
      "41 41\n",
      "41 12\n",
      "41 3\n",
      "74 74\n",
      "74 15\n",
      "after 74\n"
     ]
    }
   ],
   "source": [
    "largest_so_far = -1\n",
    "print('before', largest_so_far) \n",
    "for the_num in [9, 41, 12, 3, 74, 15]: \n",
    "    if the_num > largest_so_far: \n",
    "        largest_so_far = the_num \n",
    "    print( largest_so_far, the_num)\n",
    "\n",
    "print('after' , largest_so_far)"
   ]
  },
  {
   "cell_type": "markdown",
   "id": "50237794",
   "metadata": {},
   "source": [
    "## Counting in loop"
   ]
  },
  {
   "cell_type": "code",
   "execution_count": 3,
   "id": "5f9a98a0",
   "metadata": {},
   "outputs": [
    {
     "name": "stdout",
     "output_type": "stream",
     "text": [
      "before 0\n",
      "1 9\n",
      "2 31\n",
      "3 73\n",
      "4 56\n",
      "5 23\n",
      "6 87\n",
      "After 6\n"
     ]
    }
   ],
   "source": [
    "zork = 0\n",
    "print('before', zork)\n",
    "for thing in [9, 31,73,56,23,87]:\n",
    "    zork = zork + 1\n",
    "    print(zork, thing)\n",
    "print('After', zork)"
   ]
  },
  {
   "cell_type": "markdown",
   "id": "2221fe7a",
   "metadata": {},
   "source": [
    "## finding average in loop"
   ]
  },
  {
   "cell_type": "code",
   "execution_count": 4,
   "id": "3708ff92",
   "metadata": {},
   "outputs": [
    {
     "name": "stdout",
     "output_type": "stream",
     "text": [
      "before 0 0\n",
      "1 9 9\n",
      "2 50 41\n",
      "3 106 56\n",
      "4 143 37\n",
      "5 170 27\n",
      "6 183 13\n",
      "after 6 183 30.5\n"
     ]
    }
   ],
   "source": [
    "count = 0\n",
    "sum = 0\n",
    "print('before', count,sum)\n",
    "for value in [9, 41, 56, 37, 27,13]:\n",
    "    count = count + 1\n",
    "    sum = sum + value\n",
    "    print( count , sum, value)\n",
    "print('after', count, sum, sum / count)"
   ]
  },
  {
   "cell_type": "markdown",
   "id": "4361c749",
   "metadata": {},
   "source": [
    "## filtering in loop"
   ]
  },
  {
   "cell_type": "code",
   "execution_count": 5,
   "id": "b18cd3a2",
   "metadata": {},
   "outputs": [
    {
     "name": "stdout",
     "output_type": "stream",
     "text": [
      "before\n",
      "after\n",
      "large number 41\n",
      "after\n",
      "large number 68\n",
      "after\n",
      "large number 78\n",
      "after\n",
      "large number 26\n",
      "after\n"
     ]
    }
   ],
   "source": [
    "print('before')\n",
    "for value in [9, 41,68,78,26]:\n",
    "    if value > 20:\n",
    "        print('large number', value)\n",
    "    print('after')"
   ]
  },
  {
   "cell_type": "markdown",
   "id": "d35b405e",
   "metadata": {},
   "source": [
    "## finding smallest value"
   ]
  },
  {
   "cell_type": "code",
   "execution_count": 6,
   "id": "752b04a8",
   "metadata": {},
   "outputs": [
    {
     "name": "stdout",
     "output_type": "stream",
     "text": [
      "0 b\n",
      "1 a\n",
      "2 n\n",
      "3 a\n",
      "4 n\n",
      "5 a\n"
     ]
    }
   ],
   "source": [
    "fruit = 'banana'\n",
    "index = 0\n",
    "while index < len(fruit):\n",
    "    letter = fruit[index]\n",
    "    print(index, letter)\n",
    "    index = index + 1"
   ]
  },
  {
   "cell_type": "markdown",
   "id": "cfd7699f",
   "metadata": {},
   "source": [
    "## slicing\n"
   ]
  },
  {
   "cell_type": "code",
   "execution_count": 7,
   "id": "1eb8684f",
   "metadata": {},
   "outputs": [
    {
     "name": "stdout",
     "output_type": "stream",
     "text": [
      "Nim\n"
     ]
    }
   ],
   "source": [
    "s = 'Nimra Shahid'\n",
    "print(s[0:3])"
   ]
  },
  {
   "cell_type": "code",
   "execution_count": 8,
   "id": "73751596",
   "metadata": {},
   "outputs": [
    {
     "name": "stdout",
     "output_type": "stream",
     "text": [
      "a Sh\n"
     ]
    }
   ],
   "source": [
    "s = 'Nimra Shahid'\n",
    "print(s[4:8])"
   ]
  },
  {
   "cell_type": "code",
   "execution_count": 9,
   "id": "047dc107",
   "metadata": {},
   "outputs": [
    {
     "name": "stdout",
     "output_type": "stream",
     "text": [
      "Nim\n"
     ]
    }
   ],
   "source": [
    "s = 'Nimra Shahid'\n",
    "print(s[:3])"
   ]
  },
  {
   "cell_type": "code",
   "execution_count": 10,
   "id": "ea8bd5f5",
   "metadata": {},
   "outputs": [
    {
     "name": "stdout",
     "output_type": "stream",
     "text": [
      "hid\n"
     ]
    }
   ],
   "source": [
    "s = 'Nimra Shahid'\n",
    "print(s[9:])"
   ]
  },
  {
   "cell_type": "code",
   "execution_count": 11,
   "id": "c11a4fff",
   "metadata": {},
   "outputs": [
    {
     "name": "stdout",
     "output_type": "stream",
     "text": [
      "Nimra Shahid\n"
     ]
    }
   ],
   "source": [
    "s = 'Nimra Shahid'\n",
    "print(s[:])"
   ]
  },
  {
   "cell_type": "markdown",
   "id": "75e9c29a",
   "metadata": {},
   "source": [
    "## concatenation"
   ]
  },
  {
   "cell_type": "code",
   "execution_count": 12,
   "id": "d8ef5b3d",
   "metadata": {},
   "outputs": [
    {
     "name": "stdout",
     "output_type": "stream",
     "text": [
      "NimraShahid\n"
     ]
    }
   ],
   "source": [
    "n = 'Nimra'\n",
    "s = n + 'Shahid'\n",
    "print(s)"
   ]
  },
  {
   "cell_type": "code",
   "execution_count": 13,
   "id": "5fbadb90",
   "metadata": {},
   "outputs": [
    {
     "name": "stdout",
     "output_type": "stream",
     "text": [
      "Nimra Shahid\n"
     ]
    }
   ],
   "source": [
    "n = 'Nimra'\n",
    "s = n + ' ' + 'Shahid'\n",
    "print(s)"
   ]
  },
  {
   "cell_type": "markdown",
   "id": "658be96b",
   "metadata": {},
   "source": [
    "## searching and replacing"
   ]
  },
  {
   "cell_type": "code",
   "execution_count": 14,
   "id": "6a1f3b14",
   "metadata": {},
   "outputs": [
    {
     "name": "stdout",
     "output_type": "stream",
     "text": [
      "Hello Shahid\n"
     ]
    }
   ],
   "source": [
    "greet = 'Hello Nimra'\n",
    "mmm = greet.replace('Nimra', 'Shahid' )\n",
    "print(mmm)"
   ]
  },
  {
   "cell_type": "code",
   "execution_count": 15,
   "id": "c0f60286",
   "metadata": {},
   "outputs": [
    {
     "name": "stdout",
     "output_type": "stream",
     "text": [
      "3\n"
     ]
    }
   ],
   "source": [
    "name = 'Nimra Shahid'\n",
    "pos = name.find('ra')\n",
    "print(pos)"
   ]
  },
  {
   "cell_type": "markdown",
   "id": "f3b85f8f",
   "metadata": {},
   "source": [
    "## stripping"
   ]
  },
  {
   "cell_type": "code",
   "execution_count": 16,
   "id": "05feb0e5",
   "metadata": {},
   "outputs": [
    {
     "name": "stdout",
     "output_type": "stream",
     "text": [
      "Nimra Shahid\n"
     ]
    }
   ],
   "source": [
    "name = 'Nimra Shahid'\n",
    "pos = name.lstrip()\n",
    "print(pos)"
   ]
  },
  {
   "cell_type": "code",
   "execution_count": 17,
   "id": "309174e0",
   "metadata": {},
   "outputs": [
    {
     "name": "stdout",
     "output_type": "stream",
     "text": [
      "Nimra Shahid\n"
     ]
    }
   ],
   "source": [
    "name = 'Nimra Shahid'\n",
    "pos = name.rstrip()\n",
    "print(pos)"
   ]
  },
  {
   "cell_type": "markdown",
   "id": "2eb842f1",
   "metadata": {},
   "source": [
    "## parcing and extracting"
   ]
  },
  {
   "cell_type": "code",
   "execution_count": 18,
   "id": "98984851",
   "metadata": {},
   "outputs": [
    {
     "name": "stdout",
     "output_type": "stream",
     "text": [
      "5\n"
     ]
    }
   ],
   "source": [
    "data = 'http://localhost:8891/notebooks/Untitled.ipynb?kernel_name=python3'\n",
    "atpos = data.find('/')\n",
    "print(atpos)"
   ]
  },
  {
   "cell_type": "code",
   "execution_count": 19,
   "id": "02e971cd",
   "metadata": {},
   "outputs": [
    {
     "name": "stdout",
     "output_type": "stream",
     "text": [
      "22\n"
     ]
    }
   ],
   "source": [
    "sppos = data.find('n')\n",
    "print(sppos)"
   ]
  },
  {
   "cell_type": "code",
   "execution_count": 20,
   "id": "d1d963e7",
   "metadata": {},
   "outputs": [
    {
     "name": "stdout",
     "output_type": "stream",
     "text": [
      "/localhost:8891/\n"
     ]
    }
   ],
   "source": [
    "host = data[atpos+1 : sppos]\n",
    "print(host)"
   ]
  },
  {
   "cell_type": "code",
   "execution_count": null,
   "id": "213e0f65",
   "metadata": {},
   "outputs": [],
   "source": []
  }
 ],
 "metadata": {
  "kernelspec": {
   "display_name": "Python 3 (ipykernel)",
   "language": "python",
   "name": "python3"
  },
  "language_info": {
   "codemirror_mode": {
    "name": "ipython",
    "version": 3
   },
   "file_extension": ".py",
   "mimetype": "text/x-python",
   "name": "python",
   "nbconvert_exporter": "python",
   "pygments_lexer": "ipython3",
   "version": "3.11.4"
  }
 },
 "nbformat": 4,
 "nbformat_minor": 5
}
